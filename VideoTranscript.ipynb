{
 "cells": [
  {
   "cell_type": "code",
   "execution_count": 1,
   "metadata": {},
   "outputs": [
    {
     "name": "stdout",
     "output_type": "stream",
     "text": [
      "Collecting openai-whisper\n",
      "  Downloading openai-whisper-20231117.tar.gz (798 kB)\n",
      "     ------------------------------------- 798.6/798.6 kB 12.5 MB/s eta 0:00:00\n",
      "  Installing build dependencies: started\n",
      "  Installing build dependencies: finished with status 'done'\n",
      "  Getting requirements to build wheel: started\n",
      "  Getting requirements to build wheel: finished with status 'done'\n",
      "  Preparing metadata (pyproject.toml): started\n",
      "  Preparing metadata (pyproject.toml): finished with status 'done'\n",
      "Collecting tiktoken\n",
      "  Downloading tiktoken-0.6.0-cp310-cp310-win_amd64.whl (798 kB)\n",
      "     ------------------------------------- 798.7/798.7 kB 25.4 MB/s eta 0:00:00\n",
      "Requirement already satisfied: numpy in c:\\users\\felip\\documents\\github\\autodescription\\venv\\lib\\site-packages (from openai-whisper) (1.26.4)\n",
      "Collecting more-itertools\n",
      "  Downloading more_itertools-10.2.0-py3-none-any.whl (57 kB)\n",
      "     ---------------------------------------- 57.0/57.0 kB 3.1 MB/s eta 0:00:00\n",
      "Requirement already satisfied: tqdm in c:\\users\\felip\\documents\\github\\autodescription\\venv\\lib\\site-packages (from openai-whisper) (4.66.2)\n",
      "Requirement already satisfied: torch in c:\\users\\felip\\documents\\github\\autodescription\\venv\\lib\\site-packages (from openai-whisper) (2.2.2)\n",
      "Collecting numba\n",
      "  Downloading numba-0.59.1-cp310-cp310-win_amd64.whl (2.7 MB)\n",
      "     ---------------------------------------- 2.7/2.7 MB 34.1 MB/s eta 0:00:00\n",
      "Collecting llvmlite<0.43,>=0.42.0dev0\n",
      "  Using cached llvmlite-0.42.0-cp310-cp310-win_amd64.whl (28.1 MB)\n",
      "Requirement already satisfied: regex>=2022.1.18 in c:\\users\\felip\\documents\\github\\autodescription\\venv\\lib\\site-packages (from tiktoken->openai-whisper) (2023.12.25)\n",
      "Requirement already satisfied: requests>=2.26.0 in c:\\users\\felip\\documents\\github\\autodescription\\venv\\lib\\site-packages (from tiktoken->openai-whisper) (2.31.0)\n",
      "Requirement already satisfied: filelock in c:\\users\\felip\\documents\\github\\autodescription\\venv\\lib\\site-packages (from torch->openai-whisper) (3.13.3)\n",
      "Requirement already satisfied: typing-extensions>=4.8.0 in c:\\users\\felip\\documents\\github\\autodescription\\venv\\lib\\site-packages (from torch->openai-whisper) (4.11.0)\n",
      "Requirement already satisfied: fsspec in c:\\users\\felip\\documents\\github\\autodescription\\venv\\lib\\site-packages (from torch->openai-whisper) (2024.3.1)\n",
      "Requirement already satisfied: jinja2 in c:\\users\\felip\\documents\\github\\autodescription\\venv\\lib\\site-packages (from torch->openai-whisper) (3.1.3)\n",
      "Requirement already satisfied: sympy in c:\\users\\felip\\documents\\github\\autodescription\\venv\\lib\\site-packages (from torch->openai-whisper) (1.12)\n",
      "Requirement already satisfied: networkx in c:\\users\\felip\\documents\\github\\autodescription\\venv\\lib\\site-packages (from torch->openai-whisper) (3.3)\n",
      "Requirement already satisfied: colorama in c:\\users\\felip\\documents\\github\\autodescription\\venv\\lib\\site-packages (from tqdm->openai-whisper) (0.4.6)\n",
      "Requirement already satisfied: charset-normalizer<4,>=2 in c:\\users\\felip\\documents\\github\\autodescription\\venv\\lib\\site-packages (from requests>=2.26.0->tiktoken->openai-whisper) (3.3.2)\n",
      "Requirement already satisfied: idna<4,>=2.5 in c:\\users\\felip\\documents\\github\\autodescription\\venv\\lib\\site-packages (from requests>=2.26.0->tiktoken->openai-whisper) (3.6)\n",
      "Requirement already satisfied: urllib3<3,>=1.21.1 in c:\\users\\felip\\documents\\github\\autodescription\\venv\\lib\\site-packages (from requests>=2.26.0->tiktoken->openai-whisper) (2.2.1)\n",
      "Requirement already satisfied: certifi>=2017.4.17 in c:\\users\\felip\\documents\\github\\autodescription\\venv\\lib\\site-packages (from requests>=2.26.0->tiktoken->openai-whisper) (2024.2.2)\n",
      "Requirement already satisfied: MarkupSafe>=2.0 in c:\\users\\felip\\documents\\github\\autodescription\\venv\\lib\\site-packages (from jinja2->torch->openai-whisper) (2.1.5)\n",
      "Requirement already satisfied: mpmath>=0.19 in c:\\users\\felip\\documents\\github\\autodescription\\venv\\lib\\site-packages (from sympy->torch->openai-whisper) (1.3.0)\n",
      "Building wheels for collected packages: openai-whisper\n",
      "  Building wheel for openai-whisper (pyproject.toml): started\n",
      "  Building wheel for openai-whisper (pyproject.toml): finished with status 'done'\n",
      "  Created wheel for openai-whisper: filename=openai_whisper-20231117-py3-none-any.whl size=801375 sha256=08b15f9c177422e705bf2448f597f67458b5408b9cb718662539e33ccb2f2e12\n",
      "  Stored in directory: c:\\users\\felip\\appdata\\local\\pip\\cache\\wheels\\d0\\85\\e1\\9361b4cbea7dd4b7f6702fa4c3afc94877952eeb2b62f45f56\n",
      "Successfully built openai-whisper\n",
      "Installing collected packages: more-itertools, llvmlite, tiktoken, numba, openai-whisper\n",
      "Successfully installed llvmlite-0.42.0 more-itertools-10.2.0 numba-0.59.1 openai-whisper-20231117 tiktoken-0.6.0\n"
     ]
    },
    {
     "name": "stderr",
     "output_type": "stream",
     "text": [
      "\n",
      "[notice] A new release of pip available: 22.2.2 -> 24.0\n",
      "[notice] To update, run: python.exe -m pip install --upgrade pip\n"
     ]
    }
   ],
   "source": [
    "!pip install -U openai-whisper\n",
    "!pip install pytube\n"
   ]
  },
  {
   "cell_type": "code",
   "execution_count": 1,
   "metadata": {},
   "outputs": [
    {
     "name": "stderr",
     "output_type": "stream",
     "text": [
      "c:\\Users\\felip\\Documents\\Github\\multi_modal_insights\\venv\\lib\\site-packages\\tqdm\\auto.py:21: TqdmWarning: IProgress not found. Please update jupyter and ipywidgets. See https://ipywidgets.readthedocs.io/en/stable/user_install.html\n",
      "  from .autonotebook import tqdm as notebook_tqdm\n"
     ]
    }
   ],
   "source": [
    "import whisper\n",
    "from pytube import YouTube\n",
    "from transformers import pipeline\n",
    "import os\n",
    "\n",
    "model = whisper.load_model(\"base\")\n",
    "summarizer = pipeline(\"summarization\",model=\"facebook/bart-large-cnn\")\n",
    "\n",
    "def get_audio(url):\n",
    "  yt = YouTube(url)\n",
    "  video = yt.streams.filter(only_audio=True).first()\n",
    "  out_file=video.download(output_path=\".\")\n",
    "  base, ext = os.path.splitext(out_file)\n",
    "  new_file = './files/audio.mp3'\n",
    "  os.rename(out_file, \"./files/audio.mp3\")\n",
    "  a = new_file\n",
    "  return a\n",
    "\n",
    "def get_text(url):\n",
    "  result = model.transcribe(get_audio(url))\n",
    "  return result['text']\n",
    "\n",
    "def get_summary(url):\n",
    "  article = get_text(url)\n",
    "  b = summarizer(article)\n",
    "  b = b[0]['summary_text']\n",
    "  return b"
   ]
  },
  {
   "cell_type": "code",
   "execution_count": 2,
   "metadata": {},
   "outputs": [],
   "source": [
    "audio = get_audio(\"https://www.youtube.com/watch?v=cXN8Obr1yss&ab_channel=WillAthertonCanineTraining\")"
   ]
  },
  {
   "cell_type": "code",
   "execution_count": 3,
   "metadata": {},
   "outputs": [
    {
     "name": "stderr",
     "output_type": "stream",
     "text": [
      "c:\\Users\\felip\\Documents\\Github\\multi_modal_insights\\venv\\lib\\site-packages\\whisper\\transcribe.py:115: UserWarning: FP16 is not supported on CPU; using FP32 instead\n",
      "  warnings.warn(\"FP16 is not supported on CPU; using FP32 instead\")\n"
     ]
    }
   ],
   "source": [
    "transcript = model.transcribe(\"./files/audio.mp3\")[\"text\"]"
   ]
  },
  {
   "cell_type": "code",
   "execution_count": 4,
   "metadata": {},
   "outputs": [
    {
     "name": "stdout",
     "output_type": "stream",
     "text": [
      " What are the things that you should be doing every single day with your dog to guarantee success, t\n"
     ]
    }
   ],
   "source": [
    "print(transcript[0:100])"
   ]
  },
  {
   "cell_type": "code",
   "execution_count": 7,
   "metadata": {},
   "outputs": [
    {
     "name": "stdout",
     "output_type": "stream",
     "text": [
      " What are the things that you should be doing every single day with your dog to guarantee success, to have the dream life with your dream canine companion? I'm Will Afferton, I'm a canine behaviorist and my goal is to keep all dogs out of shelters and off the Euphon Asia table. This dog has been abused and neglected and has a wide variety of behaviour problems because of it. I'm going to foster him for seven days and show you exactly what can be achieved with loving leadership. Guys, welcome back to the channel. My name is Will Afferton, this is my mate here. He's a rescue dog, but in this video I want to talk about the things that I've been doing every single day with my mate here that you should be doing every single day with your dog as well. So the first thing that you must get your head around is the importance of fresh old manners and by fresh holds what we mean is any entrance or exit that takes your dog from one environment through to the next. That could be their crate out of their crate. It could be the room into the crate. It could be every single doorway in your house, in particular the ones that take them to the outside. It could be gates while you're out on your walk. Anything that is an entrance or an exit that takes your dog from one area to the next, you should be managing with what we call fresh hold management. What that should look like is that when you come to a fresh hold your dog is happy to ideally sit, stay and wait or at least come to a stop, look up to you for guidance and direction and you go through that fresh hold first welcoming them with you in a calm relaxed state of mind. If you just do that you will be setting yourself up for huge amounts of success. A amounts of success that you wouldn't believe were fathomable from something that you might think is unimportant or trivial but from the thousands of people and dogs that I've helped I guarantee that this is one of the things that will make the biggest impact for you and your dog's life. Manage their environment, manage the fresh hold between environments and do so from a place of calm, consistent leadership. The next thing I want to talk about is my food drill. Now when you get a new dog come into your home there's a couple of ways you can approach it. The way I'm approaching it with my mate here is that all of his food every single drop of his food for the day goes into his treat pouch in the morning. Now I use this food throughout the day for all of his training sessions and anytime he's simply doing something that I like, like right now he's sitting, being really calm, well mannered and I'm going to let him know I appreciate that. Good job and I'm going to find as many opportunities as I can throughout the day to let him know hey I really like what you're doing and I'm going to reward you for doing so. However at the end of the day any food that's left then goes into his food bowl and he can eat it like a traditional meal. Sometimes there isn't any left but once the dog is settled and become an excellent cat and eye companion you don't have to do this every day maybe you just want to feed your dog two regular meals because you've got them to a place that you're happy with that's brilliant but never leave your dog's food down ever period for the rest of their life use it as an opportunity to every single day build relationship built on your loving leadership to do that you fill the dogs bowl up you put them into a sit and stay you put the food on the floor and you do not allow them to have that food until they're sat looking up to you for guidance and direction when they're doing that and they're being calm and respectful looking up to you for loving guidance and direction you can simply then utilize break and they can have access to their food you can do that in the crate you can do it in the kitchen it doesn't really matter but what is important is that food for a dog is usually the highest value resource in their life if you guard the gateway to them accessing food through either working with you or through a simple drill of sit stay break you are going to help your dog understand that the best thing in their life comes from you and it comes through you and for them to gain access to it they simply need to be calm well-mannered look up to you for guidance and direction and they can have it do that every day and you'll be setting you and your dog up for wild amounts of success the next thing I think you should be doing every single day with your dog especially if you just brought that dog into your home is crate training I truly too my core believe that every single dog on the planet should be at least crate trained once they're crate trained you can then make the decision to slowly give the more freedom providing that they don't start becoming reactive anxious or destroying your furniture or property if they do do any of those things you can quickly bring them back into their crate they're happy to be in their crate their crate is a safe place where they understand that they can settle decompress relax and be happy provide that for your dog and you will have a happier dog and you will have a better behaved dog simply by controlling their environment and giving them a safe space to decompress and the next thing is exercise your dog has physical and mental exercise requirements all dogs are different but it doesn't change the fact that all dogs need to have those requirements for physical and mental exercise provided for them every single day if you do that for your dog tire your dog out you will have a happier dog a tire dog is also a more well behaved dog a tire dog is easier to train in most situations a tire dog is easier to socialize in most situations a tire dog is easier to teach things like manners rules boundaries and expectations in most situations and a tire dog will definitely settle down much easier in your home than a dog that hasn't had those needs met to make sure that every single day you're giving your dog plenty of mental and physical exercise and the last thing that you should be doing with your dog every day is obedience training yes I'm a huge advocate for loving leadership and I really enjoy very natural ways of living communicating and building relationship with dogs but that does not mean that you shouldn't be working on your communication pathways with your dog every single day in my opinion to have a perfect K&I companion that's safe and under control at all times your dog should have a sit it should have a stay break heal recall and place if you can do that with your dog you can have a wonderful dog no matter where you are even if you've got a dog like my mate here who's completely deaf we can build those commands with hand signals to help him understand what it is that I want from him and when he makes good decisions I reward him for making those good decisions and it allows us to build relationship where he can trust me because he understands I'm going to communicate to him effectively and from a place of love not only what I do want but also what I don't want we make it crystal clear no gray areas and he's a happier dog because of it because he has no anxiety and he has no fear around what he should do and when in any given situation he knows he simply needs to look up to me for guidance and direction and with those fundamental basics of obedience I can ask him what it is that I want from him and keep him safe reliable and under control at all times so there are the things that I think you should absolutely be doing with your dog every single day if you want your dog to be a well-behaved well-rounded perfect K&I companion now for any point you want to how do I even do some of those things I don't know where to start or don't worry because that's exactly what this channel's for so simply subscribe to the channel we make videos every single week explaining exactly how you can achieve the same amount of success yourself at home so thank you so much for watching come and say hello over on Instagram but I can't wait to see you on the next episode\n"
     ]
    }
   ],
   "source": [
    "print(transcript)"
   ]
  }
 ],
 "metadata": {
  "kernelspec": {
   "display_name": "venv",
   "language": "python",
   "name": "python3"
  },
  "language_info": {
   "codemirror_mode": {
    "name": "ipython",
    "version": 3
   },
   "file_extension": ".py",
   "mimetype": "text/x-python",
   "name": "python",
   "nbconvert_exporter": "python",
   "pygments_lexer": "ipython3",
   "version": "3.10.8"
  }
 },
 "nbformat": 4,
 "nbformat_minor": 2
}
