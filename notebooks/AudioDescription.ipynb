{
 "cells": [
  {
   "cell_type": "code",
   "execution_count": 1,
   "id": "6261ab57-253f-4c15-a441-c9bfd18ff21b",
   "metadata": {},
   "outputs": [],
   "source": [
    "import librosa\n",
    "from transformers import ClapAudioModel, AutoProcessor"
   ]
  },
  {
   "cell_type": "code",
   "execution_count": 2,
   "id": "650c102b-7df9-41da-86d6-7dde5888428f",
   "metadata": {},
   "outputs": [],
   "source": [
    "x, fs = librosa.load(librosa.example(\"trumpet\"))"
   ]
  },
  {
   "cell_type": "code",
   "execution_count": null,
   "id": "d556a0d1-0392-4a02-94a6-7465655737d8",
   "metadata": {},
   "outputs": [],
   "source": [
    "from datasets import load_dataset\n",
    "from transformers import AutoProcessor, ClapAudioModel\n",
    "\n",
    "dataset = load_dataset(\"hf-internal-testing/ashraq-esc50-1-dog-example\")\n",
    "audio_sample = dataset[\"train\"][\"audio\"][0][\"array\"]\n",
    "\n",
    "model = ClapAudioModel.from_pretrained(\"laion/clap-htsat-fused\")\n",
    "processor = AutoProcessor.from_pretrained(\"laion/clap-htsat-fused\")\n",
    "\n",
    "inputs = processor(audios=audio_sample, return_tensors=\"pt\")\n",
    "\n",
    "outputs = model(**inputs)\n",
    "last_hidden_state = outputs.last_hidden_state"
   ]
  }
 ],
 "metadata": {
  "kernelspec": {
   "display_name": "Python 3 (ipykernel)",
   "language": "python",
   "name": "python3"
  },
  "language_info": {
   "codemirror_mode": {
    "name": "ipython",
    "version": 3
   },
   "file_extension": ".py",
   "mimetype": "text/x-python",
   "name": "python",
   "nbconvert_exporter": "python",
   "pygments_lexer": "ipython3",
   "version": "3.10.12"
  }
 },
 "nbformat": 4,
 "nbformat_minor": 5
}
