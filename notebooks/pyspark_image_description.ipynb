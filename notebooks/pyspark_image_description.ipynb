{
 "cells": [
  {
   "cell_type": "code",
   "execution_count": 1,
   "id": "a431a083-84f5-444b-873f-9f79137ab994",
   "metadata": {},
   "outputs": [],
   "source": [
    "import pyspark.sql.functions as F\n",
    "from pyspark.sql import SparkSession"
   ]
  },
  {
   "cell_type": "code",
   "execution_count": 2,
   "id": "03cfc1e6-0b95-44f4-9bd0-dee7d289fbae",
   "metadata": {},
   "outputs": [
    {
     "name": "stderr",
     "output_type": "stream",
     "text": [
      "Setting default log level to \"WARN\".\n",
      "To adjust logging level use sc.setLogLevel(newLevel). For SparkR, use setLogLevel(newLevel).\n",
      "24/05/03 13:48:57 WARN NativeCodeLoader: Unable to load native-hadoop library for your platform... using builtin-java classes where applicable\n"
     ]
    }
   ],
   "source": [
    "spark = SparkSession.builder.config(\"spark.driver.memory\", \"20g\").getOrCreate()"
   ]
  },
  {
   "cell_type": "code",
   "execution_count": 11,
   "id": "89738683-40d2-421d-a868-0af437ac0ae9",
   "metadata": {},
   "outputs": [],
   "source": [
    "from pyspark.ml.image import ImageSchema\n",
    "\n",
    "# Load images\n",
    "data_home = \"../../photos/Flicker8k_Dataset\"\n",
    "img_df = spark.read.format(\"image\").load(data_home)"
   ]
  },
  {
   "cell_type": "code",
   "execution_count": 13,
   "id": "bc2239dc-fcd8-4af3-8ae1-a009880e0043",
   "metadata": {},
   "outputs": [
    {
     "data": {
      "text/plain": [
       "DataFrame[image: struct<origin:string,height:int,width:int,nChannels:int,mode:int,data:binary>]"
      ]
     },
     "execution_count": 13,
     "metadata": {},
     "output_type": "execute_result"
    }
   ],
   "source": [
    "img_df"
   ]
  },
  {
   "cell_type": "code",
   "execution_count": 17,
   "id": "744c47df-0c14-40a2-bce1-becff9d99820",
   "metadata": {},
   "outputs": [
    {
     "name": "stderr",
     "output_type": "stream",
     "text": [
      "IOPub data rate exceeded.                                                       \n",
      "The Jupyter server will temporarily stop sending output\n",
      "to the client in order to avoid crashing it.\n",
      "To change this limit, set the config variable\n",
      "`--ServerApp.iopub_data_rate_limit`.\n",
      "\n",
      "Current values:\n",
      "ServerApp.iopub_data_rate_limit=1000000.0 (bytes/sec)\n",
      "ServerApp.rate_limit_window=3.0 (secs)\n",
      "\n"
     ]
    }
   ],
   "source": [
    "# let's check one sample\n",
    "img_df.show(1, truncate=False)"
   ]
  },
  {
   "cell_type": "code",
   "execution_count": 8,
   "id": "97d07926-95ac-462d-be1c-3ccd875146df",
   "metadata": {},
   "outputs": [],
   "source": [
    "import sys\n",
    "sys.path.append(\"../src\")"
   ]
  },
  {
   "cell_type": "code",
   "execution_count": 10,
   "id": "d3e688bf-7099-4a00-8c68-74155db6c953",
   "metadata": {},
   "outputs": [],
   "source": [
    "from key import hf_key\n",
    "from utils import ImageTopicExtractor, set_topic_explainer_pipe, set_image_sumarizer_pipe"
   ]
  },
  {
   "cell_type": "code",
   "execution_count": 15,
   "id": "ae0a11f3-c5c1-4010-b823-9b34b8e15d45",
   "metadata": {},
   "outputs": [],
   "source": [
    "from huggingface_hub import login\n",
    "from torch import bfloat16"
   ]
  },
  {
   "cell_type": "code",
   "execution_count": 16,
   "id": "55e605e6-ef85-487b-8dac-8cc6b0d17da8",
   "metadata": {},
   "outputs": [
    {
     "name": "stdout",
     "output_type": "stream",
     "text": [
      "Token has not been saved to git credential helper. Pass `add_to_git_credential=True` if you want to set the git credential as well.\n",
      "Token is valid (permission: read).\n",
      "Your token has been saved to /home/gv2167/.cache/huggingface/token\n",
      "Login successful\n"
     ]
    }
   ],
   "source": [
    "login(hf_key)"
   ]
  },
  {
   "cell_type": "code",
   "execution_count": 18,
   "id": "eb41a7a2-08d1-4803-8062-242546e6066d",
   "metadata": {},
   "outputs": [
    {
     "name": "stderr",
     "output_type": "stream",
     "text": [
      "`low_cpu_mem_usage` was None, now set to True since model is quantized.\n"
     ]
    },
    {
     "data": {
      "application/vnd.jupyter.widget-view+json": {
       "model_id": "95148492703745f8914ce7e6e0fbfd76",
       "version_major": 2,
       "version_minor": 0
      },
      "text/plain": [
       "Loading checkpoint shards:   0%|          | 0/3 [00:00<?, ?it/s]"
      ]
     },
     "metadata": {},
     "output_type": "display_data"
    },
    {
     "name": "stderr",
     "output_type": "stream",
     "text": [
      "Special tokens have been added in the vocabulary, make sure the associated word embeddings are fine-tuned or trained.\n"
     ]
    },
    {
     "name": "stdout",
     "output_type": "stream",
     "text": [
      "Token has not been saved to git credential helper. Pass `add_to_git_credential=True` if you want to set the git credential as well.\n",
      "Token is valid (permission: read).\n",
      "Your token has been saved to /home/gv2167/.cache/huggingface/token\n",
      "Login successful\n"
     ]
    },
    {
     "ename": "NameError",
     "evalue": "name 'bfloat16' is not defined",
     "output_type": "error",
     "traceback": [
      "\u001b[0;31m---------------------------------------------------------------------------\u001b[0m",
      "\u001b[0;31mNameError\u001b[0m                                 Traceback (most recent call last)",
      "Cell \u001b[0;32mIn[18], line 10\u001b[0m\n\u001b[1;32m      4\u001b[0m topic_explainer_pipeline \u001b[38;5;241m=\u001b[39m utils\u001b[38;5;241m.\u001b[39mset_topic_explainer_pipe()\n\u001b[1;32m      5\u001b[0m login(hf_key)\n\u001b[1;32m      6\u001b[0m bnb_config \u001b[38;5;241m=\u001b[39m BitsAndBytesConfig(\n\u001b[1;32m      7\u001b[0m     load_in_4bit\u001b[38;5;241m=\u001b[39m\u001b[38;5;28;01mTrue\u001b[39;00m,\n\u001b[1;32m      8\u001b[0m     bnb_4bit_quant_type\u001b[38;5;241m=\u001b[39m\u001b[38;5;124m\"\u001b[39m\u001b[38;5;124mnf4\u001b[39m\u001b[38;5;124m\"\u001b[39m,\n\u001b[1;32m      9\u001b[0m     bnb_4bit_use_double_quant\u001b[38;5;241m=\u001b[39m\u001b[38;5;28;01mTrue\u001b[39;00m,\n\u001b[0;32m---> 10\u001b[0m     bnb_4bit_compute_dtype\u001b[38;5;241m=\u001b[39m\u001b[43mbfloat16\u001b[49m\n\u001b[1;32m     11\u001b[0m )\n\u001b[1;32m     12\u001b[0m model_id \u001b[38;5;241m=\u001b[39m \u001b[38;5;124m\"\u001b[39m\u001b[38;5;124mmeta-llama/LLama-2-7b-chat-hf\u001b[39m\u001b[38;5;124m\"\u001b[39m\n\u001b[1;32m     14\u001b[0m description_tokenizer \u001b[38;5;241m=\u001b[39m AutoTokenizer\u001b[38;5;241m.\u001b[39mfrom_pretrained(model_id)\n",
      "\u001b[0;31mNameError\u001b[0m: name 'bfloat16' is not defined"
     ]
    }
   ],
   "source": [
    "from transformers import BitsAndBytesConfig, AutoModelForCausalLM, AutoTokenizer, pipeline\n",
    "\n",
    "# def image_summarizer(df):\n",
    "topic_explainer_pipeline = utils.set_topic_explainer_pipe()\n",
    "login(hf_key)\n",
    "bnb_config = BitsAndBytesConfig(\n",
    "    load_in_4bit=True,\n",
    "    bnb_4bit_quant_type=\"nf4\",\n",
    "    bnb_4bit_use_double_quant=True,\n",
    "    bnb_4bit_compute_dtype=bfloat16\n",
    ")\n",
    "model_id = \"meta-llama/LLama-2-7b-chat-hf\"\n",
    "\n",
    "description_tokenizer = AutoTokenizer.from_pretrained(model_id)\n",
    "description_model = AutoModelFromCausalLM.from_pretrained(\n",
    "    model_id,\n",
    "    trust_remote_code=True,\n",
    "    quantization_config=bnb_config,\n",
    "    device_map=\"auto\"\n",
    ")\n",
    "\n",
    "description_generator = pipeline(\n",
    "    model=model,\n",
    "    tokenizer=tokenizer,\n",
    "    task=\"text-generation\",\n",
    "    temperature=0.1,\n",
    "    max_new_tokens=500,\n",
    "    repetition_penalty=1.1\n",
    ")"
   ]
  },
  {
   "cell_type": "code",
   "execution_count": null,
   "id": "0555cc43-77fb-4e11-967f-993db0890988",
   "metadata": {},
   "outputs": [],
   "source": [
    "topic_extractor \n",
    "title_abs = [d.title + tokenizer.sep_token + d.abstract  for idx, d in df.iterrows()]\n",
    "\n",
    "def chunks(lst, n):\n",
    "    \"\"\"Yield successive n-sized chunks from lst.\"\"\"\n",
    "    for i in range(0, len(lst), n):\n",
    "      yield lst[i:i + n]\n",
    "\n",
    "batch_size = 20\n",
    "embeddings_chunks = []\n",
    "for c in chunks(title_abs, batch_size):\n",
    "    # preprocess the input\n",
    "    inputs = tokenizer(c, padding=True, truncation=True, return_tensors=\"pt\", max_length=512)\n",
    "    result = model(**inputs)\n",
    "    # take the first token in the batch as the embedding\n",
    "    embeddings = result.last_hidden_state[:, 0, :].cpu().detach().numpy()\n",
    "    embeddings_chunks.append(embeddings)\n",
    "\n",
    "embeddings = np.concatenate(embeddings_chunks)\n",
    "\n",
    "return_df = (\n",
    "    df[[\"id\"]]\n",
    "    .assign(embedding=list(embeddings))\n",
    ")\n",
    "# return return_df"
   ]
  },
  {
   "cell_type": "code",
   "execution_count": null,
   "id": "a8d16d02-37a7-46a0-9fe4-ffeb54f72df1",
   "metadata": {},
   "outputs": [],
   "source": [
    "from pyspark.sql.types import StructType, StructField, StringType, ArrayType, FloatType\n",
    "from pyspark.sql.functions import spark_partition_id\n",
    "\n",
    "embed_schema = StructType(\n",
    "    [\n",
    "        StructField(\"id\", StringType(), True),\n",
    "        StructField(\"embedding\", ArrayType(FloatType()), True)\n",
    "    ]\n",
    ")\n",
    "\n",
    "embed_df = (\n",
    "    text_to_embed_df\n",
    "    .groupBy(spark_partition_id().alias(\"_pid\"))\n",
    "    .applyInPandas(embed_func, embed_schema)\n",
    ")\n",
    "\n",
    "embed_df.show()"
   ]
  },
  {
   "cell_type": "code",
   "execution_count": null,
   "id": "62938179-1853-4147-a432-308cb464bdcc",
   "metadata": {},
   "outputs": [],
   "source": [
    "# Preprocess input image\n",
    "df = df.select(\"image.origin\", preprocess_input(\"image.data\").alias(\"features\"))\n",
    "\n",
    "# Extract image features\n",
    "df = model.transform(df)"
   ]
  }
 ],
 "metadata": {
  "kernelspec": {
   "display_name": "Python 3 (ipykernel)",
   "language": "python",
   "name": "python3"
  },
  "language_info": {
   "codemirror_mode": {
    "name": "ipython",
    "version": 3
   },
   "file_extension": ".py",
   "mimetype": "text/x-python",
   "name": "python",
   "nbconvert_exporter": "python",
   "pygments_lexer": "ipython3",
   "version": "3.12.2"
  }
 },
 "nbformat": 4,
 "nbformat_minor": 5
}
